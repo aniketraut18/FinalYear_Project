{
 "cells": [
  {
   "cell_type": "code",
   "execution_count": 15,
   "metadata": {
    "collapsed": true
   },
   "outputs": [],
   "source": [
    "import pandas as pd\n",
    "import numpy as np\n",
    "df = pd.read_csv('dataset.csv', header=0)\n",
    "from pandas import errors as pd_errors\n",
    "import logging\n",
    "from hmmlearn.hmm import GaussianHMM"
   ]
  },
  {
   "cell_type": "code",
   "execution_count": 16,
   "metadata": {
    "collapsed": true
   },
   "outputs": [],
   "source": [
    "class StockPredictor(object):\n",
    "    def __init__(self, n_latency_days=10, n_hidden_states=4):\n",
    "        self._init_logger()       \n",
    "        self.n_latency_days = n_latency_days\n",
    "        self.hmm = GaussianHMM(n_components=n_hidden_states)\n",
    "        self.data = pd.read_csv('dataset.csv', header=0)\n",
    " \n",
    " \n",
    "    def _init_logger(self):\n",
    "        self._logger = logging.getLogger(__name__)\n",
    "        handler = logging.StreamHandler()\n",
    "        formatter = logging.Formatter(\n",
    "            '%(asctime)s %(name)-12s %(levelname)-8s %(message)s')\n",
    "        handler.setFormatter(formatter)\n",
    "        self._logger.addHandler(handler)\n",
    "        self._logger.setLevel(logging.DEBUG)\n",
    " \n",
    " \n",
    "    @staticmethod\n",
    "    def _extract_features(data):\n",
    "        open_price = np.array(data['Open'])\n",
    "        close_price = np.array(data['Close'])\n",
    "        high_price = np.array(data['High'])\n",
    "        low_price = np.array(data['Low'])\n",
    " \n",
    "        # Compute the fraction change in close, high and low prices\n",
    "        # which would be used a feature\n",
    "        frac_change = (close_price - open_price) / open_price\n",
    "        frac_high = (high_price - open_price) / open_price\n",
    "        frac_low = (open_price - low_price) / open_price\n",
    " \n",
    "        return np.column_stack((frac_change, frac_high, frac_low))\n",
    "\n",
    "\n",
    " \n",
    "    def fit(self):\n",
    "        self._logger.info('>>> Extracting Features')\n",
    "        feature_vector = StockPredictor._extract_features(self.data)\n",
    "        self._logger.info('Features extraction Completed <<<')\n",
    " \n",
    "        self.hmm.fit(feature_vector)"
   ]
  },
  {
   "cell_type": "code",
   "execution_count": 25,
   "metadata": {},
   "outputs": [
    {
     "data": {
      "text/plain": [
       "0      2019-03-19\n",
       "1      2019-03-18\n",
       "2      2019-03-17\n",
       "3      2019-03-16\n",
       "4      2019-03-15\n",
       "5      2019-03-14\n",
       "6      2019-03-13\n",
       "7      2019-03-12\n",
       "8      2019-03-11\n",
       "9      2019-03-10\n",
       "10     2019-03-09\n",
       "11     2019-03-08\n",
       "12     2019-03-07\n",
       "13     2019-03-06\n",
       "14     2019-03-05\n",
       "15     2019-03-04\n",
       "16     2019-03-03\n",
       "17     2019-03-02\n",
       "18     2019-03-01\n",
       "19     2019-02-28\n",
       "20     2019-02-27\n",
       "21     2019-02-26\n",
       "22     2019-02-25\n",
       "23     2019-02-24\n",
       "24     2019-02-23\n",
       "25     2019-02-22\n",
       "26     2019-02-21\n",
       "27     2019-02-20\n",
       "28     2019-02-19\n",
       "29     2019-02-18\n",
       "          ...    \n",
       "1540   2014-12-30\n",
       "1541   2014-12-29\n",
       "1542   2014-12-28\n",
       "1543   2014-12-27\n",
       "1544   2014-12-26\n",
       "1545   2014-12-25\n",
       "1546   2014-12-24\n",
       "1547   2014-12-23\n",
       "1548   2014-12-22\n",
       "1549   2014-12-21\n",
       "1550   2014-12-20\n",
       "1551   2014-12-19\n",
       "1552   2014-12-18\n",
       "1553   2014-12-17\n",
       "1554   2014-12-16\n",
       "1555   2014-12-15\n",
       "1556   2014-12-14\n",
       "1557   2014-12-13\n",
       "1558   2014-12-12\n",
       "1559   2014-12-11\n",
       "1560   2014-12-10\n",
       "1561   2014-12-09\n",
       "1562   2014-12-08\n",
       "1563   2014-12-07\n",
       "1564   2014-12-06\n",
       "1565   2014-12-05\n",
       "1566   2014-12-04\n",
       "1567   2014-12-03\n",
       "1568   2014-12-02\n",
       "1569   2014-12-01\n",
       "Name: Date, Length: 1570, dtype: datetime64[ns]"
      ]
     },
     "execution_count": 25,
     "metadata": {},
     "output_type": "execute_result"
    }
   ],
   "source": [
    "df['Date'] = pd.to_datetime(df['Date'])\n",
    "df['Date'].dtype\n",
    "df['Date']"
   ]
  }
 ],
 "metadata": {
  "kernelspec": {
   "display_name": "Python 3",
   "language": "python",
   "name": "python3"
  },
  "language_info": {
   "codemirror_mode": {
    "name": "ipython",
    "version": 3
   },
   "file_extension": ".py",
   "mimetype": "text/x-python",
   "name": "python",
   "nbconvert_exporter": "python",
   "pygments_lexer": "ipython3",
   "version": "3.5.2"
  }
 },
 "nbformat": 4,
 "nbformat_minor": 2
}
